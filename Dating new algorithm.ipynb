{
 "cells": [
  {
   "cell_type": "markdown",
   "metadata": {},
   "source": [
    "## Описание задачи: \n",
    "Команда приложения для знакомств разработала новый алгоритм для поиска наиболее подходящих анкет. Для проверки работы алгоритма провели A/B-тест. Все пользователи были разделены на две группы. Пользователи в группе с номером 0 пользовались приложением со старым алгоритмом. Пользователи в группе №1 пользовались приложением с новым алгоритмом для поиска анкет.\n",
    "Необходимо оценить, действительно ли новый алгоритм улучшил качество сервиса. \n",
    "\n",
    "### Описание данных:\n",
    "- `user_id_1` – уникальный идентификатор пользователя (старый алгоритм).\n",
    "- `user_id_2` – уникальный идентификатор пользователя (новый алгоритм).\n",
    "- `group` - номер группы.\n",
    "- `is_match` - мэтч (0 - нет мэтча, 1 - есть мэтч).\n",
    "\n",
    "### Ход исследования:\n",
    "1. Загрузка данных + препроцессинг при необходимости.\n",
    "2. Проверка гипотез.\n",
    "3. Выводы."
   ]
  },
  {
   "cell_type": "code",
   "execution_count": 1,
   "metadata": {},
   "outputs": [],
   "source": [
    "import pandas as pd\n",
    "from scipy import stats\n",
    "\n",
    "import requests\n",
    "from urllib.parse import urlencode\n",
    "\n",
    "import seaborn as sns\n",
    "import matplotlib.pyplot as plt"
   ]
  },
  {
   "cell_type": "code",
   "execution_count": 2,
   "metadata": {},
   "outputs": [],
   "source": [
    "base_url = 'https://cloud-api.yandex.net/v1/disk/public/resources/download?'\n",
    "public_key = 'https://disk.yandex.ru/d/cKCxLr_dTb2KJA'\n",
    "\n",
    "# загрузочная ссылка\n",
    "final_url = base_url + urlencode(dict(public_key=public_key))\n",
    "response = requests.get(final_url)\n",
    "download_url = response.json()['href']\n",
    "\n",
    "# файл и его сохранение\n",
    "download_response = requests.get(download_url)\n",
    "with open('dating_data.csv', 'wb') as f:\n",
    "    f.write(download_response.content)"
   ]
  },
  {
   "cell_type": "code",
   "execution_count": 3,
   "metadata": {},
   "outputs": [],
   "source": [
    "df = pd.read_csv('dating_data.csv')"
   ]
  },
  {
   "cell_type": "code",
   "execution_count": 4,
   "metadata": {},
   "outputs": [
    {
     "data": {
      "text/html": [
       "<div>\n",
       "<style scoped>\n",
       "    .dataframe tbody tr th:only-of-type {\n",
       "        vertical-align: middle;\n",
       "    }\n",
       "\n",
       "    .dataframe tbody tr th {\n",
       "        vertical-align: top;\n",
       "    }\n",
       "\n",
       "    .dataframe thead th {\n",
       "        text-align: right;\n",
       "    }\n",
       "</style>\n",
       "<table border=\"1\" class=\"dataframe\">\n",
       "  <thead>\n",
       "    <tr style=\"text-align: right;\">\n",
       "      <th></th>\n",
       "      <th>user_id_1</th>\n",
       "      <th>user_id_2</th>\n",
       "      <th>group</th>\n",
       "      <th>is_match</th>\n",
       "    </tr>\n",
       "  </thead>\n",
       "  <tbody>\n",
       "    <tr>\n",
       "      <th>0</th>\n",
       "      <td>79</td>\n",
       "      <td>91</td>\n",
       "      <td>1</td>\n",
       "      <td>1</td>\n",
       "    </tr>\n",
       "    <tr>\n",
       "      <th>1</th>\n",
       "      <td>716</td>\n",
       "      <td>353</td>\n",
       "      <td>1</td>\n",
       "      <td>1</td>\n",
       "    </tr>\n",
       "    <tr>\n",
       "      <th>2</th>\n",
       "      <td>423</td>\n",
       "      <td>677</td>\n",
       "      <td>0</td>\n",
       "      <td>0</td>\n",
       "    </tr>\n",
       "    <tr>\n",
       "      <th>3</th>\n",
       "      <td>658</td>\n",
       "      <td>165</td>\n",
       "      <td>1</td>\n",
       "      <td>1</td>\n",
       "    </tr>\n",
       "    <tr>\n",
       "      <th>4</th>\n",
       "      <td>969</td>\n",
       "      <td>155</td>\n",
       "      <td>0</td>\n",
       "      <td>1</td>\n",
       "    </tr>\n",
       "  </tbody>\n",
       "</table>\n",
       "</div>"
      ],
      "text/plain": [
       "   user_id_1  user_id_2  group  is_match\n",
       "0         79         91      1         1\n",
       "1        716        353      1         1\n",
       "2        423        677      0         0\n",
       "3        658        165      1         1\n",
       "4        969        155      0         1"
      ]
     },
     "execution_count": 4,
     "metadata": {},
     "output_type": "execute_result"
    }
   ],
   "source": [
    "df.head()"
   ]
  },
  {
   "cell_type": "markdown",
   "metadata": {},
   "source": [
    "#### Гипотеза 1: существуют различия в средней доле мэтчей среди двух алгоритмов."
   ]
  },
  {
   "cell_type": "markdown",
   "metadata": {},
   "source": [
    "- $H_0$: средние в группах не имеют различий\n",
    "- $H_1$: средние в группах отличаются"
   ]
  },
  {
   "cell_type": "code",
   "execution_count": 5,
   "metadata": {},
   "outputs": [
    {
     "name": "stdout",
     "output_type": "stream",
     "text": [
      "Средняя доля мэтчей в группе 0: 0.19\n"
     ]
    }
   ],
   "source": [
    "# расчет средней доли мэтчей в группе 0\n",
    "group0_match = df.loc[df['group']==0].groupby('user_id_1', as_index=False)\\\n",
    "                 .agg(is_match_sum=('is_match', 'sum'), is_match_count=('is_match', 'count'))\\\n",
    "                 .round(2).rename(columns={'is_match':'match_per_user'})\n",
    "group0_match['match_per_user'] = round(group0_match['is_match_sum'] / group0_match['is_match_count'], 2)\n",
    "mean_match_g0 = group0_match['match_per_user'].mean()\n",
    "print(f'Средняя доля мэтчей в группе 0: {mean_match_g0:.2f}')"
   ]
  },
  {
   "cell_type": "code",
   "execution_count": 6,
   "metadata": {},
   "outputs": [
    {
     "name": "stdout",
     "output_type": "stream",
     "text": [
      "Средняя доля мэтчей в группе 1: 0.40\n"
     ]
    }
   ],
   "source": [
    "# # расчет средней доли мэтчей в группе 1\n",
    "group1_match = df.loc[df['group']==1].groupby('user_id_1', as_index=False)\\\n",
    "                  .agg(is_match_sum=('is_match', 'sum'), is_match_count=('is_match', 'count'))\\\n",
    "                  .round(2).rename(columns={'is_match':'match_per_user'})\n",
    "group1_match['match_per_user'] = round(group1_match['is_match_sum'] / group1_match['is_match_count'], 2)\n",
    "mean_match_g1 = group1_match['match_per_user'].mean()\n",
    "print(f'Средняя доля мэтчей в группе 1: {mean_match_g1:.2f}')"
   ]
  },
  {
   "cell_type": "code",
   "execution_count": 7,
   "metadata": {},
   "outputs": [
    {
     "data": {
      "image/png": "[encoded data removed]",
      "text/plain": [
       "<Figure size 1200x600 with 1 Axes>"
      ]
     },
     "metadata": {},
     "output_type": "display_data"
    }
   ],
   "source": [
    "# распределение доля мэтчей на пользователя в группе 0\n",
    "plt.figure(figsize=(12, 6))\n",
    "sns.histplot(data=group0_match, x='match_per_user')\n",
    "plt.title('Распределение доли мэтчей на пользователя в группе 0')\n",
    "plt.show();"
   ]
  },
  {
   "cell_type": "code",
   "execution_count": 8,
   "metadata": {},
   "outputs": [
    {
     "data": {
      "image/png": "[encoded data removed]",
      "text/plain": [
       "<Figure size 1200x600 with 1 Axes>"
      ]
     },
     "metadata": {},
     "output_type": "display_data"
    }
   ],
   "source": [
    "# распределение доля мэтчей на пользователя в группе 1\n",
    "plt.figure(figsize=(12, 6))\n",
    "sns.histplot(data=group1_match, x='match_per_user')\n",
    "plt.title('Распределение доли мэтчей на пользователя в группе 1')\n",
    "plt.show();"
   ]
  },
  {
   "cell_type": "code",
   "execution_count": 9,
   "metadata": {},
   "outputs": [
    {
     "data": {
      "text/plain": [
       "ShapiroResult(statistic=np.float64(0.9566227135043949), pvalue=np.float64(5.6554006522061654e-11))"
      ]
     },
     "execution_count": 9,
     "metadata": {},
     "output_type": "execute_result"
    }
   ],
   "source": [
    "# проверка распределения на нормальность\n",
    "stats.shapiro(group0_match.match_per_user) "
   ]
  },
  {
   "cell_type": "code",
   "execution_count": 10,
   "metadata": {},
   "outputs": [
    {
     "data": {
      "text/plain": [
       "ShapiroResult(statistic=np.float64(0.9955126877692431), pvalue=np.float64(0.1622090368638478))"
      ]
     },
     "execution_count": 10,
     "metadata": {},
     "output_type": "execute_result"
    }
   ],
   "source": [
    "stats.shapiro(group1_match.match_per_user) "
   ]
  },
  {
   "cell_type": "markdown",
   "metadata": {},
   "source": [
    "Распределение в двух группах не является нормальным."
   ]
  },
  {
   "cell_type": "code",
   "execution_count": 11,
   "metadata": {},
   "outputs": [
    {
     "data": {
      "text/plain": [
       "LeveneResult(statistic=np.float64(10.035149464201396), pvalue=np.float64(0.001582466737859385))"
      ]
     },
     "execution_count": 11,
     "metadata": {},
     "output_type": "execute_result"
    }
   ],
   "source": [
    "# проверка дисперсий на гомогенность\n",
    "stats.levene(group0_match.match_per_user, group1_match.match_per_user) "
   ]
  },
  {
   "cell_type": "markdown",
   "metadata": {},
   "source": [
    "Дисперсии не являются гомогенными."
   ]
  },
  {
   "cell_type": "markdown",
   "metadata": {},
   "source": [
    "В данном случае применим t-критерий Уэлча."
   ]
  },
  {
   "cell_type": "code",
   "execution_count": 12,
   "metadata": {},
   "outputs": [
    {
     "data": {
      "text/plain": [
       "TtestResult(statistic=np.float64(-26.481431782585016), pvalue=np.float64(7.890669157070396e-117), df=np.float64(973.9371185920583))"
      ]
     },
     "execution_count": 12,
     "metadata": {},
     "output_type": "execute_result"
    }
   ],
   "source": [
    "stats.ttest_ind(group0_match.match_per_user, group1_match.match_per_user, equal_var=False)"
   ]
  },
  {
   "cell_type": "markdown",
   "metadata": {},
   "source": [
    "Нулевая гипотеза о равенстве средних отклоняется. Взаимосвязь между средней долей мэтчей и типом алгоритма существует."
   ]
  },
  {
   "cell_type": "markdown",
   "metadata": {},
   "source": [
    "#### Гипотеза 2: существуют различия в среднем количестве действий на пользователя между алгоритмами."
   ]
  },
  {
   "cell_type": "markdown",
   "metadata": {},
   "source": [
    "- $H_0$: средние в группах не имеют различий\n",
    "- $H_1$: средние в группах отличаются"
   ]
  },
  {
   "cell_type": "code",
   "execution_count": 13,
   "metadata": {},
   "outputs": [
    {
     "name": "stdout",
     "output_type": "stream",
     "text": [
      "Среднее количество действий на пользователя в группе 0: 9.56\n"
     ]
    }
   ],
   "source": [
    "# расчет среднего количество действий на пользователя в группе 0\n",
    "mean_action_g0 = group0_match.is_match_count.mean()\n",
    "print(f'Среднее количество действий на пользователя в группе 0: {mean_action_g0:.2f}')"
   ]
  },
  {
   "cell_type": "code",
   "execution_count": 14,
   "metadata": {},
   "outputs": [
    {
     "name": "stdout",
     "output_type": "stream",
     "text": [
      "Среднее количество действий на пользователя в группе 1: 19.48\n"
     ]
    }
   ],
   "source": [
    "# расчет среднего количество действий на пользователя в группе 1\n",
    "mean_action_g1 = group1_match.is_match_count.mean()\n",
    "print(f'Среднее количество действий на пользователя в группе 1: {mean_action_g1:.2f}')"
   ]
  },
  {
   "cell_type": "code",
   "execution_count": 15,
   "metadata": {},
   "outputs": [
    {
     "data": {
      "image/png": "[encoded data removed]",
      "text/plain": [
       "<Figure size 1200x600 with 1 Axes>"
      ]
     },
     "metadata": {},
     "output_type": "display_data"
    }
   ],
   "source": [
    "# распределение среднего количества действий на пользователя в группе 0\n",
    "plt.figure(figsize=(12, 6))\n",
    "sns.histplot(data=group0_match, x='is_match_count')\n",
    "plt.title('Распределение среднего количества действий пользователя в группе 0')\n",
    "plt.show();"
   ]
  },
  {
   "cell_type": "code",
   "execution_count": 16,
   "metadata": {},
   "outputs": [
    {
     "data": {
      "image/png": "[encoded data removed]",
      "text/plain": [
       "<Figure size 1200x600 with 1 Axes>"
      ]
     },
     "metadata": {},
     "output_type": "display_data"
    }
   ],
   "source": [
    "# распределение среднего количества действий на пользователя в группе 1\n",
    "plt.figure(figsize=(12, 6))\n",
    "sns.histplot(data=group1_match, x='is_match_count')\n",
    "plt.title('Распределение среднего количества действий пользователя в группе 1')\n",
    "plt.show();"
   ]
  },
  {
   "cell_type": "code",
   "execution_count": 17,
   "metadata": {},
   "outputs": [
    {
     "data": {
      "text/plain": [
       "ShapiroResult(statistic=np.float64(0.9884850177181765), pvalue=np.float64(0.0005573886960179489))"
      ]
     },
     "execution_count": 17,
     "metadata": {},
     "output_type": "execute_result"
    }
   ],
   "source": [
    "# проверка распределения на нормальность\n",
    "stats.shapiro(group0_match.is_match_count) "
   ]
  },
  {
   "cell_type": "code",
   "execution_count": 18,
   "metadata": {},
   "outputs": [
    {
     "data": {
      "text/plain": [
       "ShapiroResult(statistic=np.float64(0.9839302855207089), pvalue=np.float64(2.542527067902603e-05))"
      ]
     },
     "execution_count": 18,
     "metadata": {},
     "output_type": "execute_result"
    }
   ],
   "source": [
    "stats.shapiro(group1_match.is_match_count) "
   ]
  },
  {
   "cell_type": "markdown",
   "metadata": {},
   "source": [
    "Распределения в двух группах не являются нормальными."
   ]
  },
  {
   "cell_type": "code",
   "execution_count": 19,
   "metadata": {},
   "outputs": [
    {
     "data": {
      "text/plain": [
       "LeveneResult(statistic=np.float64(0.4804538582845789), pvalue=np.float64(0.48837808141783545))"
      ]
     },
     "execution_count": 19,
     "metadata": {},
     "output_type": "execute_result"
    }
   ],
   "source": [
    "stats.levene(group0_match.is_match_count, group1_match.is_match_count) "
   ]
  },
  {
   "cell_type": "markdown",
   "metadata": {},
   "source": [
    "Дисперсии в группах не являются гомогенными."
   ]
  },
  {
   "cell_type": "code",
   "execution_count": 20,
   "metadata": {},
   "outputs": [
    {
     "data": {
      "text/plain": [
       "TtestResult(statistic=np.float64(-51.85383774946492), pvalue=np.float64(1.8942877064043142e-285), df=np.float64(998.0))"
      ]
     },
     "execution_count": 20,
     "metadata": {},
     "output_type": "execute_result"
    }
   ],
   "source": [
    "stats.ttest_ind(group0_match.is_match_count, group1_match.is_match_count)"
   ]
  },
  {
   "cell_type": "markdown",
   "metadata": {},
   "source": [
    "Нулевая гипотеза о равенстве средних отклоняется. Взаимосвязь между средним количеством действий на пользователя и типом алгоритма существует."
   ]
  },
  {
   "cell_type": "markdown",
   "metadata": {},
   "source": [
    "### Выводы\n",
    "Результаты A/B-теста показали, что новая система улучшила метрики (долю мэтчей и активность клиентов в продукте)."
   ]
  }
 ],
 "metadata": {
  "kernelspec": {
   "display_name": "Python 3 (ipykernel)",
   "language": "python",
   "name": "python3"
  },
  "language_info": {
   "codemirror_mode": {
    "name": "ipython",
    "version": 3
   },
   "file_extension": ".py",
   "mimetype": "text/x-python",
   "name": "python",
   "nbconvert_exporter": "python",
   "pygments_lexer": "ipython3",
   "version": "3.12.8"
  }
 },
 "nbformat": 4,
 "nbformat_minor": 4
}
